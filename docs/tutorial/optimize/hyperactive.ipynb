{
 "cells": [
  {
   "cell_type": "markdown",
   "metadata": {},
   "source": [
    "# Optimize with Hyperactive\n",
    "[Home](https://simonblanke.github.io/hyperactive-documentation/)\n",
    "\n",
    "## Install\n"
   ]
  },
  {
   "cell_type": "code",
   "execution_count": null,
   "metadata": {},
   "outputs": [],
   "source": [
    "!pip install hyperactive"
   ]
  },
  {
   "cell_type": "markdown",
   "metadata": {},
   "source": [
    "## Sample strategy"
   ]
  },
  {
   "cell_type": "code",
   "execution_count": 1,
   "metadata": {},
   "outputs": [],
   "source": [
    "import talib.abstract as ta\n",
    "\n",
    "from lettrade import DataFeed, Strategy, crossover, crossunder\n",
    "from lettrade.exchange.backtest import ForexBackTestAccount, let_backtest\n",
    "\n",
    "\n",
    "class SmaCross(Strategy):\n",
    "    ema1_period = 9\n",
    "    ema2_period = 21\n",
    "\n",
    "    def indicators(self, df: DataFeed):\n",
    "        df[\"ema1\"] = ta.EMA(df, timeperiod=self.ema1_period)\n",
    "        df[\"ema2\"] = ta.EMA(df, timeperiod=self.ema2_period)\n",
    "\n",
    "        df[\"signal_ema_crossover\"] = crossover(df.ema1, df.ema2)\n",
    "        df[\"signal_ema_crossunder\"] = crossunder(df.ema1, df.ema2)\n",
    "\n",
    "    def next(self, df: DataFeed):\n",
    "        if len(self.orders) > 0 or len(self.trades) > 0:\n",
    "            return\n",
    "\n",
    "        if df.signal_ema_crossover[-1]:\n",
    "            price = self.data.close[-1]\n",
    "            self.buy(size=0.1, sl=price - 0.01, tp=price + 0.01)\n",
    "        elif df.signal_ema_crossunder[-1]:\n",
    "            price = self.data.close[-1]\n",
    "            self.sell(size=0.1, sl=price + 0.01, tp=price - 0.01)\n",
    "\n",
    "lt = let_backtest(\n",
    "    strategy=SmaCross,\n",
    "    datas=\"example/data/data/EURUSD_5m_0_10000.csv\",\n",
    "    account=ForexBackTestAccount,\n",
    ")"
   ]
  },
  {
   "cell_type": "markdown",
   "metadata": {},
   "source": [
    "### Example"
   ]
  },
  {
   "cell_type": "code",
   "execution_count": 3,
   "metadata": {},
   "outputs": [
    {
     "name": "stderr",
     "output_type": "stream",
     "text": [
      "[0] _optimize_instance (Hill Climbing):   0%|\u001b[33m          \u001b[0m| 0/100 [00:00<?, ?it/s]"
     ]
    },
    {
     "name": "stderr",
     "output_type": "stream",
     "text": [
      "[0] _optimize_instance (Hill Climbing): 100%|\u001b[32m──────────\u001b[0m| 100/100 [00:01<00:00, 50.75it/s, best_iter=0, best_pos=[10 27], best_score=1063.8] "
     ]
    },
    {
     "name": "stdout",
     "output_type": "stream",
     "text": [
      "\n",
      "\n",
      "Results: '_optimize_instance'  \n",
      "   Best score: 1063.8  \n",
      "   Best parameter set:\n",
      "      'ema1_period' : 15.0  \n",
      "      'ema2_period' : 37.0  \n",
      "   Best iteration: 0  \n",
      " \n",
      "   Random seed: 1231760450  \n",
      " \n",
      "   Evaluation time   : 1.8575713634490967 sec    [99.02 %]\n",
      "   Optimization time : 0.018411874771118164 sec    [0.98 %]\n",
      "   Iteration time    : 1.8759832382202148 sec    [53.31 iter/sec]\n",
      " \n"
     ]
    },
    {
     "name": "stderr",
     "output_type": "stream",
     "text": [
      "\n"
     ]
    }
   ],
   "source": [
    "from hyperactive import Hyperactive\n",
    "from hyperactive.optimizers import HillClimbingOptimizer\n",
    "\n",
    "# define the model in a function\n",
    "def params_parser(args):\n",
    "    return [\n",
    "        (\"ema1_period\", int(args[\"ema1_period\"])),\n",
    "        (\"ema2_period\", int(args[\"ema2_period\"])),\n",
    "    ]\n",
    "\n",
    "\n",
    "def result_parser(result):\n",
    "    return result[\"Equity [$]\"]\n",
    "\n",
    "\n",
    "model = lt.optimize_instance(\n",
    "    params_parser=params_parser,\n",
    "    result_parser=result_parser,\n",
    "    fork_data=True,\n",
    ")\n",
    "\n",
    "# search space determines the ranges of parameters you want the optimizer to search through\n",
    "search_space = {\n",
    "    \"ema1_period\": list(range(5, 25, 1)),\n",
    "    \"ema2_period\": list(range(10, 50)),\n",
    "}\n",
    "\n",
    "optimizer = HillClimbingOptimizer(epsilon=0.1, distribution=\"laplace\", n_neighbours=4)\n",
    "\n",
    "# start the optimization run\n",
    "hyper = Hyperactive()\n",
    "hyper.add_search(model, search_space, optimizer=optimizer, n_iter=100)\n",
    "hyper.run()"
   ]
  }
 ],
 "metadata": {
  "kernelspec": {
   "display_name": "LetTrade",
   "language": "python",
   "name": "python3"
  },
  "language_info": {
   "codemirror_mode": {
    "name": "ipython",
    "version": 3
   },
   "file_extension": ".py",
   "mimetype": "text/x-python",
   "name": "python",
   "nbconvert_exporter": "python",
   "pygments_lexer": "ipython3",
   "version": "3.10.14"
  }
 },
 "nbformat": 4,
 "nbformat_minor": 2
}
