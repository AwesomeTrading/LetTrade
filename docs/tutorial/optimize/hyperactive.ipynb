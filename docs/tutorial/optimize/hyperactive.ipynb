{
 "cells": [
  {
   "cell_type": "markdown",
   "metadata": {},
   "source": [
    "# Optimize with Hyperactive\n",
    "[Home](https://simonblanke.github.io/hyperactive-documentation/)\n",
    "\n",
    "## Install\n"
   ]
  },
  {
   "cell_type": "code",
   "execution_count": null,
   "metadata": {},
   "outputs": [],
   "source": [
    "!pip install hyperactive"
   ]
  },
  {
   "cell_type": "markdown",
   "metadata": {},
   "source": [
    "## Sample strategy"
   ]
  },
  {
   "cell_type": "code",
   "execution_count": 1,
   "metadata": {},
   "outputs": [],
   "source": [
    "import talib.abstract as ta\n",
    "\n",
    "from lettrade import DataFeed, Strategy, crossover, crossunder\n",
    "from lettrade.exchange.backtest import ForexBackTestAccount, let_backtest\n",
    "\n",
    "\n",
    "class SmaCross(Strategy):\n",
    "    ema1_period = 9\n",
    "    ema2_period = 21\n",
    "\n",
    "    def indicators(self, df: DataFeed):\n",
    "        df[\"ema1\"] = ta.EMA(df, timeperiod=self.ema1_period)\n",
    "        df[\"ema2\"] = ta.EMA(df, timeperiod=self.ema2_period)\n",
    "\n",
    "        df[\"signal_ema_crossover\"] = crossover(df.ema1, df.ema2)\n",
    "        df[\"signal_ema_crossunder\"] = crossunder(df.ema1, df.ema2)\n",
    "\n",
    "    def next(self, df: DataFeed):\n",
    "        if len(self.orders) > 0 or len(self.trades) > 0:\n",
    "            return\n",
    "\n",
    "        if df.signal_ema_crossover.l[-1]:\n",
    "            price = self.data.close.l[-1]\n",
    "            self.buy(size=0.1, sl=price - 0.001, tp=price + 0.001)\n",
    "        elif df.signal_ema_crossunder.l[-1]:\n",
    "            price = self.data.close.l[-1]\n",
    "            self.sell(size=0.1, sl=price + 0.001, tp=price - 0.001)\n",
    "\n",
    "\n",
    "lt = let_backtest(\n",
    "    strategy=SmaCross,\n",
    "    datas=\"example/data/data/EURUSD_5m_0_10000.csv\",\n",
    "    account=ForexBackTestAccount,\n",
    ")"
   ]
  },
  {
   "cell_type": "markdown",
   "metadata": {},
   "source": [
    "### Example"
   ]
  },
  {
   "cell_type": "code",
   "execution_count": 2,
   "metadata": {},
   "outputs": [
    {
     "name": "stderr",
     "output_type": "stream",
     "text": [
      "[0] _optimize_model (Hill Climbing): 100%|\u001b[32m──────────\u001b[0m| 1000/1000 [01:41<00:00,  9.87it/s, best_iter=0, best_pos=[9 0], best_score=1183.88] "
     ]
    },
    {
     "name": "stdout",
     "output_type": "stream",
     "text": [
      "\n",
      "\n",
      "Results: '_optimize_model'  \n",
      "   Best score: 1183.88  \n",
      "   Best parameter set:\n",
      "      'ema1_period' : 14.0  \n",
      "      'ema2_period' : 10.0  \n",
      "   Best iteration: 0  \n",
      " \n",
      "   Random seed: 304816968  \n",
      " \n",
      "   Evaluation time   : 100.14153289794922 sec    [99.89 %]\n",
      "   Optimization time : 0.11161208152770996 sec    [0.11 %]\n",
      "   Iteration time    : 100.25314497947693 sec    [9.97 iter/sec]\n",
      " \n"
     ]
    },
    {
     "name": "stderr",
     "output_type": "stream",
     "text": [
      "\n"
     ]
    }
   ],
   "source": [
    "from hyperactive import Hyperactive\n",
    "from hyperactive.optimizers import HillClimbingOptimizer\n",
    "\n",
    "\n",
    "# define the model in a function\n",
    "def params_parser(args):\n",
    "    params = [\n",
    "        (\"ema1_period\", int(args[\"ema1_period\"])),\n",
    "        (\"ema2_period\", int(args[\"ema2_period\"])),\n",
    "    ]\n",
    "    return params\n",
    "\n",
    "\n",
    "def result_parser(result):\n",
    "    return result[\"equity\"]\n",
    "\n",
    "\n",
    "model = lt.optimize_model(\n",
    "    params_parser=params_parser,\n",
    "    result_parser=result_parser,\n",
    "    fork_data=True,\n",
    ")\n",
    "\n",
    "# search space determines the ranges of parameters you want the optimizer to search through\n",
    "search_space = {\n",
    "    \"ema1_period\": list(range(5, 25, 1)),\n",
    "    \"ema2_period\": list(range(10, 50)),\n",
    "}\n",
    "\n",
    "optimizer = HillClimbingOptimizer(epsilon=0.1, distribution=\"laplace\", n_neighbours=4)\n",
    "\n",
    "# start the optimization run\n",
    "hyper = Hyperactive()\n",
    "hyper.add_search(model, search_space, optimizer=optimizer, n_iter=1000)\n",
    "hyper.run()"
   ]
  },
  {
   "cell_type": "code",
   "execution_count": null,
   "metadata": {},
   "outputs": [],
   "source": [
    "df = hyper.search_data(model)\n",
    "df"
   ]
  },
  {
   "cell_type": "markdown",
   "metadata": {},
   "source": [
    "## Plot"
   ]
  },
  {
   "cell_type": "code",
   "execution_count": null,
   "metadata": {},
   "outputs": [],
   "source": [
    "import plotly.io as pio\n",
    "\n",
    "pio.renderers.default = \"notebook\"\n",
    "pio.templates.default = \"plotly_dark\""
   ]
  },
  {
   "cell_type": "markdown",
   "metadata": {},
   "source": [
    "### Type 1"
   ]
  },
  {
   "cell_type": "code",
   "execution_count": null,
   "metadata": {},
   "outputs": [],
   "source": [
    "import plotly.express as px\n",
    "\n",
    "fig = px.density_heatmap(\n",
    "    df,\n",
    "    x=\"ema1_period\",\n",
    "    y=\"ema2_period\",\n",
    "    z=\"score\",\n",
    "    nbinsx=30,\n",
    "    nbinsy=30,\n",
    "    histfunc=\"max\",\n",
    "    color_continuous_scale=\"Viridis\",\n",
    ")\n",
    "fig.show()"
   ]
  },
  {
   "cell_type": "markdown",
   "metadata": {},
   "source": [
    "### Type 2"
   ]
  },
  {
   "cell_type": "code",
   "execution_count": null,
   "metadata": {},
   "outputs": [],
   "source": [
    "import plotly.express as px\n",
    "\n",
    "fig = px.density_contour(\n",
    "    df,\n",
    "    x=\"ema1_period\",\n",
    "    y=\"ema2_period\",\n",
    "    z=\"score\",\n",
    "    histfunc=\"max\",\n",
    ")\n",
    "fig.update_traces(contours_coloring=\"fill\", contours_showlabels=True)\n",
    "fig.show()"
   ]
  }
 ],
 "metadata": {
  "kernelspec": {
   "display_name": "LetTrade",
   "language": "python",
   "name": "python3"
  },
  "language_info": {
   "codemirror_mode": {
    "name": "ipython",
    "version": 3
   },
   "file_extension": ".py",
   "mimetype": "text/x-python",
   "name": "python",
   "nbconvert_exporter": "python",
   "pygments_lexer": "ipython3",
   "version": "3.10.14"
  }
 },
 "nbformat": 4,
 "nbformat_minor": 2
}
