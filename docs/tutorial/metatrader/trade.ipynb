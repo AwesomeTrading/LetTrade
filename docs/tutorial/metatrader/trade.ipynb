{
 "cells": [
  {
   "cell_type": "markdown",
   "metadata": {},
   "source": [
    "# MetaTrader Trade"
   ]
  },
  {
   "cell_type": "markdown",
   "metadata": {},
   "source": [
    "## Init API"
   ]
  },
  {
   "cell_type": "code",
   "execution_count": 1,
   "metadata": {
    "notebookRunGroups": {
     "groupValue": "1"
    }
   },
   "outputs": [],
   "source": [
    "from lettrade.exchange.live.metatrader import MetaTraderAPI\n",
    "from dotenv import load_dotenv\n",
    "import os\n",
    "\n",
    "load_dotenv()\n",
    "\n",
    "api = MetaTraderAPI(\n",
    "    login=int(os.environ[\"MT5_LOGIN\"]),\n",
    "    password=os.environ[\"MT5_PASSWORD\"],\n",
    "    server=os.environ[\"MT5_SERVER\"],\n",
    "    # wine=os.getenv(\"MT5_WINE\", None),\n",
    ")"
   ]
  },
  {
   "cell_type": "markdown",
   "metadata": {},
   "source": [
    "## Init DataFeed"
   ]
  },
  {
   "cell_type": "markdown",
   "metadata": {},
   "source": []
  },
  {
   "cell_type": "code",
   "execution_count": null,
   "metadata": {},
   "outputs": [],
   "source": [
    "from lettrade.exchange.live.metatrader import MetaTraderDataFeed\n",
    "\n",
    "data = MetaTraderDataFeed(symbol=\"USDCAD\", timeframe=\"5m\", api=api)\n",
    "data.bars_load(since=0, to=10)\n",
    "data"
   ]
  },
  {
   "cell_type": "code",
   "execution_count": null,
   "metadata": {},
   "outputs": [],
   "source": [
    "info = data.symbol_info()\n",
    "info._asdict()"
   ]
  },
  {
   "cell_type": "markdown",
   "metadata": {},
   "source": [
    "## Place new order"
   ]
  },
  {
   "cell_type": "code",
   "execution_count": null,
   "metadata": {},
   "outputs": [],
   "source": [
    "from lettrade.exchange.live.metatrader import MetaTraderOrder, OrderType\n",
    "from unittest.mock import MagicMock\n",
    "\n",
    "order = MetaTraderOrder(\n",
    "    id=\"\",\n",
    "    data=data,\n",
    "    exchange=MagicMock(),\n",
    "    type=OrderType.Market,\n",
    "    size=0.1,\n",
    "    api=api,\n",
    ")\n",
    "order.place()"
   ]
  },
  {
   "cell_type": "markdown",
   "metadata": {},
   "source": [
    "### Get order by id"
   ]
  },
  {
   "cell_type": "code",
   "execution_count": 2,
   "metadata": {},
   "outputs": [
    {
     "name": "stdout",
     "output_type": "stream",
     "text": [
      "TradeOrder(ticket=44222563, time_setup=1718898785, time_setup_msc=1718898785172, time_done=1718898785, time_done_msc=1718898785172, time_expiration=0, type=0, type_time=0, type_filling=1, state=4, magic=88888888, position_id=44222563, position_by_id=0, reason=3, volume_initial=0.01, volume_current=0.0, price_open=0.0, sl=0.0, tp=0.0, price_current=1.37025, price_stoplimit=0.0, symbol='USDCAD', comment='', external_id='')\n"
     ]
    },
    {
     "data": {
      "text/plain": [
       "[Box({'ticket': 44222563, 'time_setup': 1718898785, 'time_setup_msc': 1718898785172, 'time_done': 1718898785, 'time_done_msc': 1718898785172, 'time_expiration': 0, 'type': 0, 'type_time': 0, 'type_filling': 1, 'state': 4, 'magic': 88888888, 'position_id': 44222563, 'position_by_id': 0, 'reason': 3, 'volume_initial': 0.01, 'volume_current': 0.0, 'price_open': 0.0, 'sl': 0.0, 'tp': 0.0, 'price_current': 1.37025, 'price_stoplimit': 0.0, 'symbol': 'USDCAD', 'comment': '', 'external_id': '', 'fees': 0.0})]"
      ]
     },
     "execution_count": 2,
     "metadata": {},
     "output_type": "execute_result"
    }
   ],
   "source": [
    "order = api.orders_history_get(id=44222563)\n",
    "order"
   ]
  },
  {
   "cell_type": "markdown",
   "metadata": {},
   "source": [
    "## Position"
   ]
  },
  {
   "cell_type": "markdown",
   "metadata": {},
   "source": [
    "### Get position by id"
   ]
  },
  {
   "cell_type": "code",
   "execution_count": null,
   "metadata": {},
   "outputs": [],
   "source": [
    "from lettrade.exchange.live.metatrader import MetaTraderPosition\n",
    "\n",
    "api.positions_get(id=\"44209922\")"
   ]
  },
  {
   "cell_type": "markdown",
   "metadata": {},
   "source": [
    "### Update position"
   ]
  },
  {
   "cell_type": "code",
   "execution_count": null,
   "metadata": {},
   "outputs": [],
   "source": [
    "result = api.do_position_update(id=44209922, sl=1.370)\n",
    "result"
   ]
  },
  {
   "cell_type": "markdown",
   "metadata": {},
   "source": [
    "### Close position"
   ]
  },
  {
   "cell_type": "code",
   "execution_count": null,
   "metadata": {},
   "outputs": [],
   "source": [
    "tick = api.tick_get(symbol=\"USDCAD\")\n",
    "price = tick.ask if True else tick.bid\n",
    "\n",
    "result = api.do_position_close(\n",
    "    id=44209922, symbol=\"USDCAD\", price=price, size=0.1, type=1\n",
    ")\n",
    "result"
   ]
  },
  {
   "cell_type": "markdown",
   "metadata": {},
   "source": [
    "## Execution"
   ]
  },
  {
   "cell_type": "code",
   "execution_count": 3,
   "metadata": {},
   "outputs": [
    {
     "data": {
      "text/plain": [
       "[Box({'ticket': 36461502, 'order': 44185981, 'time': 1718871570, 'time_msc': 1718871570304, 'type': 1, 'entry': 1, 'magic': 88888888, 'position_id': 44176376, 'reason': 5, 'volume': 0.01, 'price': 1.37144, 'commission': 0.0, 'swap': 0.0, 'profit': 0.06, 'fee': 0.0, 'symbol': 'USDCAD', 'comment': '[tp 1.37144]', 'external_id': '', 'fees': 0.0})]"
      ]
     },
     "execution_count": 3,
     "metadata": {},
     "output_type": "execute_result"
    }
   ],
   "source": [
    "result = api.executions_get(id=36461502)\n",
    "# result = api.executions_get(position_id=44222563)\n",
    "result"
   ]
  }
 ],
 "metadata": {
  "kernelspec": {
   "display_name": "LetTrade",
   "language": "python",
   "name": "python3"
  },
  "language_info": {
   "codemirror_mode": {
    "name": "ipython",
    "version": 3
   },
   "file_extension": ".py",
   "mimetype": "text/x-python",
   "name": "python",
   "nbconvert_exporter": "python",
   "pygments_lexer": "ipython3",
   "version": "3.12.3"
  }
 },
 "nbformat": 4,
 "nbformat_minor": 2
}
