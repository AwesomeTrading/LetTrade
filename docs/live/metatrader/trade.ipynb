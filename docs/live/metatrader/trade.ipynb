{
 "cells": [
  {
   "cell_type": "markdown",
   "metadata": {},
   "source": [
    "# MetaTrader Trade"
   ]
  },
  {
   "cell_type": "markdown",
   "metadata": {},
   "source": [
    "## Init API"
   ]
  },
  {
   "cell_type": "code",
   "execution_count": 1,
   "metadata": {
    "notebookRunGroups": {
     "groupValue": "1"
    }
   },
   "outputs": [],
   "source": [
    "from lettrade.exchange.metatrader import MetaTraderAPI\n",
    "from dotenv import load_dotenv\n",
    "import os\n",
    "\n",
    "load_dotenv()\n",
    "\n",
    "api = MetaTraderAPI(\n",
    "    login=int(os.environ[\"MT5_LOGIN\"]),\n",
    "    password=os.environ[\"MT5_PASSWORD\"],\n",
    "    server=os.environ[\"MT5_SERVER\"],\n",
    "    # wine=os.getenv(\"MT5_WINE\", None),\n",
    ")"
   ]
  },
  {
   "cell_type": "markdown",
   "metadata": {},
   "source": [
    "## Init DataFeed"
   ]
  },
  {
   "cell_type": "code",
   "execution_count": 2,
   "metadata": {},
   "outputs": [
    {
     "data": {
      "text/html": [
       "<div>\n",
       "<style scoped>\n",
       "    .dataframe tbody tr th:only-of-type {\n",
       "        vertical-align: middle;\n",
       "    }\n",
       "\n",
       "    .dataframe tbody tr th {\n",
       "        vertical-align: top;\n",
       "    }\n",
       "\n",
       "    .dataframe thead th {\n",
       "        text-align: right;\n",
       "    }\n",
       "</style>\n",
       "<table border=\"1\" class=\"dataframe\">\n",
       "  <thead>\n",
       "    <tr style=\"text-align: right;\">\n",
       "      <th></th>\n",
       "      <th>open</th>\n",
       "      <th>high</th>\n",
       "      <th>low</th>\n",
       "      <th>close</th>\n",
       "      <th>volume</th>\n",
       "    </tr>\n",
       "    <tr>\n",
       "      <th>datetime</th>\n",
       "      <th></th>\n",
       "      <th></th>\n",
       "      <th></th>\n",
       "      <th></th>\n",
       "      <th></th>\n",
       "    </tr>\n",
       "  </thead>\n",
       "  <tbody>\n",
       "    <tr>\n",
       "      <th>2024-09-06 23:10:00+00:00</th>\n",
       "      <td>1.35662</td>\n",
       "      <td>1.35678</td>\n",
       "      <td>1.35653</td>\n",
       "      <td>1.35656</td>\n",
       "      <td>169</td>\n",
       "    </tr>\n",
       "    <tr>\n",
       "      <th>2024-09-06 23:15:00+00:00</th>\n",
       "      <td>1.35656</td>\n",
       "      <td>1.35692</td>\n",
       "      <td>1.35655</td>\n",
       "      <td>1.35682</td>\n",
       "      <td>214</td>\n",
       "    </tr>\n",
       "    <tr>\n",
       "      <th>2024-09-06 23:20:00+00:00</th>\n",
       "      <td>1.35682</td>\n",
       "      <td>1.35725</td>\n",
       "      <td>1.35675</td>\n",
       "      <td>1.3571</td>\n",
       "      <td>496</td>\n",
       "    </tr>\n",
       "    <tr>\n",
       "      <th>2024-09-06 23:25:00+00:00</th>\n",
       "      <td>1.3571</td>\n",
       "      <td>1.35731</td>\n",
       "      <td>1.35708</td>\n",
       "      <td>1.35725</td>\n",
       "      <td>147</td>\n",
       "    </tr>\n",
       "    <tr>\n",
       "      <th>2024-09-06 23:30:00+00:00</th>\n",
       "      <td>1.35724</td>\n",
       "      <td>1.35732</td>\n",
       "      <td>1.35713</td>\n",
       "      <td>1.35722</td>\n",
       "      <td>455</td>\n",
       "    </tr>\n",
       "    <tr>\n",
       "      <th>2024-09-06 23:35:00+00:00</th>\n",
       "      <td>1.35721</td>\n",
       "      <td>1.35727</td>\n",
       "      <td>1.35711</td>\n",
       "      <td>1.3572</td>\n",
       "      <td>180</td>\n",
       "    </tr>\n",
       "    <tr>\n",
       "      <th>2024-09-06 23:40:00+00:00</th>\n",
       "      <td>1.3572</td>\n",
       "      <td>1.35735</td>\n",
       "      <td>1.35691</td>\n",
       "      <td>1.35714</td>\n",
       "      <td>635</td>\n",
       "    </tr>\n",
       "    <tr>\n",
       "      <th>2024-09-06 23:45:00+00:00</th>\n",
       "      <td>1.35714</td>\n",
       "      <td>1.3573</td>\n",
       "      <td>1.35702</td>\n",
       "      <td>1.35709</td>\n",
       "      <td>186</td>\n",
       "    </tr>\n",
       "    <tr>\n",
       "      <th>2024-09-06 23:50:00+00:00</th>\n",
       "      <td>1.35709</td>\n",
       "      <td>1.35717</td>\n",
       "      <td>1.3569</td>\n",
       "      <td>1.35712</td>\n",
       "      <td>341</td>\n",
       "    </tr>\n",
       "    <tr>\n",
       "      <th>2024-09-06 23:55:00+00:00</th>\n",
       "      <td>1.35712</td>\n",
       "      <td>1.35715</td>\n",
       "      <td>1.35685</td>\n",
       "      <td>1.35704</td>\n",
       "      <td>390</td>\n",
       "    </tr>\n",
       "  </tbody>\n",
       "</table>\n",
       "</div>"
      ],
      "text/plain": [
       "                              open     high      low    close volume\n",
       "datetime                                                            \n",
       "2024-09-06 23:10:00+00:00  1.35662  1.35678  1.35653  1.35656    169\n",
       "2024-09-06 23:15:00+00:00  1.35656  1.35692  1.35655  1.35682    214\n",
       "2024-09-06 23:20:00+00:00  1.35682  1.35725  1.35675   1.3571    496\n",
       "2024-09-06 23:25:00+00:00   1.3571  1.35731  1.35708  1.35725    147\n",
       "2024-09-06 23:30:00+00:00  1.35724  1.35732  1.35713  1.35722    455\n",
       "2024-09-06 23:35:00+00:00  1.35721  1.35727  1.35711   1.3572    180\n",
       "2024-09-06 23:40:00+00:00   1.3572  1.35735  1.35691  1.35714    635\n",
       "2024-09-06 23:45:00+00:00  1.35714   1.3573  1.35702  1.35709    186\n",
       "2024-09-06 23:50:00+00:00  1.35709  1.35717   1.3569  1.35712    341\n",
       "2024-09-06 23:55:00+00:00  1.35712  1.35715  1.35685  1.35704    390"
      ]
     },
     "execution_count": 2,
     "metadata": {},
     "output_type": "execute_result"
    }
   ],
   "source": [
    "from lettrade.exchange.metatrader import MetaTraderDataFeed\n",
    "\n",
    "data = MetaTraderDataFeed(symbol=\"USDCAD\", timeframe=\"5m\", api=api)\n",
    "data.bars_load(since=0, to=10)\n",
    "data"
   ]
  },
  {
   "cell_type": "code",
   "execution_count": 3,
   "metadata": {},
   "outputs": [
    {
     "data": {
      "text/plain": [
       "Box({'symbol': 'USDCAD', 'type': 'Forex', 'description': 'US Dollar vs Canadian Dollar', 'currency_base': 'USD', 'currency_profit': 'CAD', 'raw': {'custom': False, 'chart_mode': 0, 'select': True, 'visible': True, 'session_deals': 0, 'session_buy_orders': 0, 'session_sell_orders': 0, 'volume': 0, 'volumehigh': 0, 'volumelow': 0, 'time': 1725667140, 'digits': 5, 'spread': 44, 'spread_float': True, 'ticks_bookdepth': 0, 'trade_calc_mode': 0, 'trade_mode': 4, 'start_time': 0, 'expiration_time': 0, 'trade_stops_level': 0, 'trade_freeze_level': 0, 'trade_exemode': 2, 'swap_mode': 1, 'swap_rollover3days': 3, 'margin_hedged_use_leg': False, 'expiration_mode': 15, 'filling_mode': 2, 'order_mode': 127, 'order_gtc_mode': 0, 'option_mode': 0, 'option_right': 0, 'bid': 1.35696, 'bidhigh': 1.3581699999999999, 'bidlow': 1.34649, 'ask': 1.3574, 'askhigh': 1.35835, 'asklow': 1.34676, 'last': 0.0, 'lasthigh': 0.0, 'lastlow': 0.0, 'volume_real': 0.0, 'volumehigh_real': 0.0, 'volumelow_real': 0.0, 'option_strike': 0.0, 'point': 1e-05, 'trade_tick_value': 0.7367025195226169, 'trade_tick_value_profit': 0.7367025195226169, 'trade_tick_value_loss': 0.7369413984199977, 'trade_tick_size': 1e-05, 'trade_contract_size': 100000.0, 'trade_accrued_interest': 0.0, 'trade_face_value': 0.0, 'trade_liquidity_rate': 0.0, 'volume_min': 0.01, 'volume_max': 100.0, 'volume_step': 0.01, 'volume_limit': 0.0, 'swap_long': 2.4699999999999998, 'swap_short': -5.99, 'margin_initial': 0.0, 'margin_maintenance': 0.0, 'session_volume': 0.0, 'session_turnover': 0.0, 'session_interest': 0.0, 'session_buy_orders_volume': 0.0, 'session_sell_orders_volume': 0.0, 'session_open': 1.34962, 'session_close': 1.35028, 'session_aw': 0.0, 'session_price_settlement': 0.0, 'session_price_limit_min': 0.0, 'session_price_limit_max': 0.0, 'margin_hedged': 0.0, 'price_change': 0.5006, 'price_volatility': 0.0, 'price_theoretical': 0.0, 'price_greeks_delta': 0.0, 'price_greeks_theta': 0.0, 'price_greeks_gamma': 0.0, 'price_greeks_vega': 0.0, 'price_greeks_rho': 0.0, 'price_greeks_omega': 0.0, 'price_sensitivity': 0.0, 'basis': '', 'category': '', 'currency_base': 'USD', 'currency_profit': 'CAD', 'currency_margin': 'USD', 'bank': '', 'description': 'US Dollar vs Canadian Dollar', 'exchange': '', 'formula': '', 'isin': '', 'name': 'USDCAD', 'page': '', 'path': 'Forex\\\\USDCAD'}})"
      ]
     },
     "execution_count": 3,
     "metadata": {},
     "output_type": "execute_result"
    }
   ],
   "source": [
    "info = data.symbol_info()\n",
    "info"
   ]
  },
  {
   "cell_type": "markdown",
   "metadata": {},
   "source": [
    "## Place new order"
   ]
  },
  {
   "cell_type": "code",
   "execution_count": null,
   "metadata": {},
   "outputs": [],
   "source": [
    "from lettrade.exchange.metatrader import MetaTraderOrder, OrderType\n",
    "from unittest.mock import MagicMock\n",
    "\n",
    "order = MetaTraderOrder(\n",
    "    id=\"\",\n",
    "    data=data,\n",
    "    exchange=MagicMock(),\n",
    "    type=OrderType.Market,\n",
    "    size=0.1,\n",
    "    api=api,\n",
    ")\n",
    "order.place()"
   ]
  },
  {
   "cell_type": "markdown",
   "metadata": {},
   "source": [
    "### Get order by id"
   ]
  },
  {
   "cell_type": "code",
   "execution_count": null,
   "metadata": {},
   "outputs": [],
   "source": [
    "order = api.orders_history_get(id=44222563)\n",
    "order"
   ]
  },
  {
   "cell_type": "markdown",
   "metadata": {},
   "source": [
    "## Position"
   ]
  },
  {
   "cell_type": "markdown",
   "metadata": {},
   "source": [
    "### Get position by id"
   ]
  },
  {
   "cell_type": "code",
   "execution_count": null,
   "metadata": {},
   "outputs": [],
   "source": [
    "from lettrade.exchange.metatrader import MetaTraderPosition\n",
    "\n",
    "api.positions_get(id=\"44209922\")"
   ]
  },
  {
   "cell_type": "markdown",
   "metadata": {},
   "source": [
    "### Update position"
   ]
  },
  {
   "cell_type": "code",
   "execution_count": null,
   "metadata": {},
   "outputs": [],
   "source": [
    "result = api.do_position_update(id=44209922, sl=1.370)\n",
    "result"
   ]
  },
  {
   "cell_type": "markdown",
   "metadata": {},
   "source": [
    "### Close position"
   ]
  },
  {
   "cell_type": "code",
   "execution_count": null,
   "metadata": {},
   "outputs": [],
   "source": [
    "tick = api.tick_get(symbol=\"USDCAD\")\n",
    "price = tick.ask if True else tick.bid\n",
    "\n",
    "result = api.do_position_close(\n",
    "    id=44209922, symbol=\"USDCAD\", price=price, size=0.1, type=1\n",
    ")\n",
    "result"
   ]
  },
  {
   "cell_type": "markdown",
   "metadata": {},
   "source": [
    "## Execution"
   ]
  },
  {
   "cell_type": "code",
   "execution_count": null,
   "metadata": {},
   "outputs": [],
   "source": [
    "result = api.executions_get(id=36461502)\n",
    "# result = api.executions_get(position_id=44222563)\n",
    "result"
   ]
  }
 ],
 "metadata": {
  "kernelspec": {
   "display_name": "LetTrade",
   "language": "python",
   "name": "python3"
  },
  "language_info": {
   "codemirror_mode": {
    "name": "ipython",
    "version": 3
   },
   "file_extension": ".py",
   "mimetype": "text/x-python",
   "name": "python",
   "nbconvert_exporter": "python",
   "pygments_lexer": "ipython3",
   "version": "3.12.4"
  }
 },
 "nbformat": 4,
 "nbformat_minor": 2
}
