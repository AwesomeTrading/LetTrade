{
 "cells": [
  {
   "cell_type": "markdown",
   "metadata": {},
   "source": [
    "# MetaTrader Trade"
   ]
  },
  {
   "cell_type": "markdown",
   "metadata": {},
   "source": [
    "## Init API"
   ]
  },
  {
   "cell_type": "code",
   "execution_count": 1,
   "metadata": {
    "notebookRunGroups": {
     "groupValue": "1"
    }
   },
   "outputs": [],
   "source": [
    "from lettrade.exchange.live.metatrader import MetaTraderAPI\n",
    "from dotenv import load_dotenv\n",
    "import os\n",
    "\n",
    "load_dotenv()\n",
    "\n",
    "api = MetaTraderAPI(\n",
    "    login=int(os.environ[\"MT5_LOGIN\"]),\n",
    "    password=os.environ[\"MT5_PASSWORD\"],\n",
    "    server=os.environ[\"MT5_SERVER\"],\n",
    "    # wine=os.getenv(\"MT5_WINE\", None),\n",
    ")"
   ]
  },
  {
   "cell_type": "markdown",
   "metadata": {},
   "source": [
    "## Init Exchange"
   ]
  },
  {
   "cell_type": "code",
   "execution_count": null,
   "metadata": {},
   "outputs": [],
   "source": [
    "from lettrade.exchange.live.metatrader import MetaTraderExchange\n",
    "\n",
    "exchange = MetaTraderExchange(api=api)"
   ]
  },
  {
   "cell_type": "markdown",
   "metadata": {},
   "source": [
    "## Init DataFeed"
   ]
  },
  {
   "cell_type": "code",
   "execution_count": null,
   "metadata": {},
   "outputs": [],
   "source": [
    "from lettrade.exchange.live.metatrader import MetaTraderDataFeed\n",
    "\n",
    "data = MetaTraderDataFeed(symbol=\"USDCAD\", timeframe=\"5m\", api=api)\n",
    "data.bars_load(since=0, to=10)\n",
    "data"
   ]
  },
  {
   "cell_type": "code",
   "execution_count": null,
   "metadata": {},
   "outputs": [],
   "source": [
    "info = data.symbol_info()\n",
    "info._asdict()"
   ]
  },
  {
   "cell_type": "markdown",
   "metadata": {},
   "source": [
    "## Place new order"
   ]
  },
  {
   "cell_type": "code",
   "execution_count": null,
   "metadata": {},
   "outputs": [],
   "source": [
    "from lettrade.exchange.live.metatrader import MetaTraderOrder, OrderType\n",
    "from unittest.mock import MagicMock\n",
    "\n",
    "order = MetaTraderOrder(\n",
    "    id=\"\",\n",
    "    data=data,\n",
    "    exchange=MagicMock(),\n",
    "    type=OrderType.Market,\n",
    "    size=0.1,\n",
    "    api=api,\n",
    ")\n",
    "order.place()"
   ]
  },
  {
   "cell_type": "markdown",
   "metadata": {},
   "source": [
    "## Position"
   ]
  },
  {
   "cell_type": "markdown",
   "metadata": {},
   "source": [
    "### Get position by id"
   ]
  },
  {
   "cell_type": "code",
   "execution_count": null,
   "metadata": {},
   "outputs": [],
   "source": [
    "from lettrade.exchange.live.metatrader import MetaTraderPosition\n",
    "\n",
    "api.positions_get(id=\"44071680\")"
   ]
  },
  {
   "cell_type": "code",
   "execution_count": 3,
   "metadata": {},
   "outputs": [
    {
     "data": {
      "text/plain": [
       "Box({'retcode': 10025, 'deal': 0, 'order': 0, 'volume': 0.0, 'price': 0.0, 'bid': 0.0, 'ask': 0.0, 'comment': 'No changes', 'request_id': 0, 'retcode_external': 0, 'request': TradeRequest(action=6, magic=88888888, order=0, symbol='', volume=0.0, price=0.0, stoplimit=0.0, sl=1.373, tp=0.0, deviation=0, type=0, type_filling=0, type_time=0, expiration=0, comment='', position=44071680, position_by=0), 'code': 10025})"
      ]
     },
     "execution_count": 3,
     "metadata": {},
     "output_type": "execute_result"
    }
   ],
   "source": [
    "result = api.do_position_update(id=44071680, sl=1.373)\n",
    "result"
   ]
  }
 ],
 "metadata": {
  "kernelspec": {
   "display_name": "LetTrade",
   "language": "python",
   "name": "python3"
  },
  "language_info": {
   "codemirror_mode": {
    "name": "ipython",
    "version": 3
   },
   "file_extension": ".py",
   "mimetype": "text/x-python",
   "name": "python",
   "nbconvert_exporter": "python",
   "pygments_lexer": "ipython3",
   "version": "3.12.3"
  }
 },
 "nbformat": 4,
 "nbformat_minor": 2
}
