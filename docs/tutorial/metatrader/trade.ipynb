{
 "cells": [
  {
   "cell_type": "markdown",
   "metadata": {},
   "source": [
    "# MetaTrader Trade"
   ]
  },
  {
   "cell_type": "markdown",
   "metadata": {},
   "source": [
    "## Init API"
   ]
  },
  {
   "cell_type": "code",
   "execution_count": 1,
   "metadata": {
    "notebookRunGroups": {
     "groupValue": "1"
    }
   },
   "outputs": [],
   "source": [
    "from lettrade.exchange.live.metatrader import MetaTraderAPI\n",
    "from dotenv import load_dotenv\n",
    "import os\n",
    "\n",
    "load_dotenv()\n",
    "\n",
    "api = MetaTraderAPI(\n",
    "    login=int(os.environ[\"MT5_LOGIN\"]),\n",
    "    password=os.environ[\"MT5_PASSWORD\"],\n",
    "    server=os.environ[\"MT5_SERVER\"],\n",
    "    # wine=os.getenv(\"MT5_WINE\", None),\n",
    ")"
   ]
  },
  {
   "cell_type": "markdown",
   "metadata": {},
   "source": [
    "## Init DataFeed"
   ]
  },
  {
   "cell_type": "code",
   "execution_count": null,
   "metadata": {},
   "outputs": [],
   "source": [
    "from lettrade.exchange.live.metatrader import MetaTraderDataFeed\n",
    "\n",
    "data = MetaTraderDataFeed(symbol=\"USDCAD\", timeframe=\"5m\", api=api)\n",
    "data.bars_load(since=0, to=10)\n",
    "data"
   ]
  },
  {
   "cell_type": "code",
   "execution_count": null,
   "metadata": {},
   "outputs": [],
   "source": [
    "info = data.symbol_info()\n",
    "info._asdict()"
   ]
  },
  {
   "cell_type": "markdown",
   "metadata": {},
   "source": [
    "## Place new order"
   ]
  },
  {
   "cell_type": "code",
   "execution_count": null,
   "metadata": {},
   "outputs": [],
   "source": [
    "from lettrade.exchange.live.metatrader import MetaTraderOrder, OrderType\n",
    "from unittest.mock import MagicMock\n",
    "\n",
    "order = MetaTraderOrder(\n",
    "    id=\"\",\n",
    "    data=data,\n",
    "    exchange=MagicMock(),\n",
    "    type=OrderType.Market,\n",
    "    size=0.1,\n",
    "    api=api,\n",
    ")\n",
    "order.place()"
   ]
  },
  {
   "cell_type": "markdown",
   "metadata": {},
   "source": [
    "## Position"
   ]
  },
  {
   "cell_type": "markdown",
   "metadata": {},
   "source": [
    "### Get position by id"
   ]
  },
  {
   "cell_type": "code",
   "execution_count": null,
   "metadata": {},
   "outputs": [],
   "source": [
    "from lettrade.exchange.live.metatrader import MetaTraderPosition\n",
    "\n",
    "api.positions_get(id=\"44209922\")"
   ]
  },
  {
   "cell_type": "markdown",
   "metadata": {},
   "source": [
    "### Update position"
   ]
  },
  {
   "cell_type": "code",
   "execution_count": null,
   "metadata": {},
   "outputs": [],
   "source": [
    "result = api.do_position_update(id=44209922, sl=1.370)\n",
    "result"
   ]
  },
  {
   "cell_type": "markdown",
   "metadata": {},
   "source": [
    "### Close position"
   ]
  },
  {
   "cell_type": "code",
   "execution_count": 4,
   "metadata": {},
   "outputs": [
    {
     "name": "stdout",
     "output_type": "stream",
     "text": [
      "position close OrderSendResult(retcode=10009, deal=36483609, order=44210491, volume=0.1, price=1.37073, bid=0.0, ask=0.0, comment='Request executed', request_id=327418791, retcode_external=0, request=TradeRequest(action=1, magic=88888888, order=0, symbol='USDCAD', volume=0.1, price=1.3709, stoplimit=0.0, sl=0.0, tp=0.0, deviation=10, type=1, type_filling=1, type_time=0, expiration=0, comment='', position=44209922, position_by=0))\n"
     ]
    },
    {
     "data": {
      "text/plain": [
       "Box({'retcode': 10009, 'deal': 36483609, 'order': 44210491, 'volume': 0.1, 'price': 1.37073, 'bid': 0.0, 'ask': 0.0, 'comment': 'Request executed', 'request_id': 327418791, 'retcode_external': 0, 'request': TradeRequest(action=1, magic=88888888, order=0, symbol='USDCAD', volume=0.1, price=1.3709, stoplimit=0.0, sl=0.0, tp=0.0, deviation=10, type=1, type_filling=1, type_time=0, expiration=0, comment='', position=44209922, position_by=0), 'code': 0})"
      ]
     },
     "execution_count": 4,
     "metadata": {},
     "output_type": "execute_result"
    }
   ],
   "source": [
    "tick = api.tick_get(symbol=\"USDCAD\")\n",
    "price = tick.ask if True else tick.bid\n",
    "\n",
    "result = api.do_position_close(\n",
    "    id=44209922, symbol=\"USDCAD\", price=price, size=0.1, type=1\n",
    ")\n",
    "result"
   ]
  }
 ],
 "metadata": {
  "kernelspec": {
   "display_name": "LetTrade",
   "language": "python",
   "name": "python3"
  },
  "language_info": {
   "codemirror_mode": {
    "name": "ipython",
    "version": 3
   },
   "file_extension": ".py",
   "mimetype": "text/x-python",
   "name": "python",
   "nbconvert_exporter": "python",
   "pygments_lexer": "ipython3",
   "version": "3.12.3"
  }
 },
 "nbformat": 4,
 "nbformat_minor": 2
}
